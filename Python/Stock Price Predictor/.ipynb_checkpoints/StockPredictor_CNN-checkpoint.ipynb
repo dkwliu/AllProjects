{
 "cells": [
  {
   "cell_type": "markdown",
   "metadata": {},
   "source": [
    "USEFUL LINKS FOR DATA CLEANING:\n",
    "\n",
    "https://www.analyticsvidhya.com/blog/2018/10/predicting-stock-price-machine-learningnd-deep-learning-techniques-python/\n",
    "\n",
    "https://www.analyticsvidhya.com/blog/2016/02/time-series-forecasting-codes-python/?utm_source=blog&utm_medium=stockmarketpredictionarticle\n",
    "\n",
    "https://machinelearningmastery.com/how-to-develop-lstm-models-for-time-series-forecasting/"
   ]
  },
  {
   "cell_type": "code",
   "execution_count": 1,
   "metadata": {},
   "outputs": [],
   "source": [
    "import pandas as pd\n",
    "import calendar as cd\n",
    "import numpy as np\n",
    "import os\n",
    "\n",
    "DIRTY_FILE_NAME = 'ES=F.csv'\n",
    "CLEAN_FILE_NAME = '(Clean)dowjones_stocks.csv'"
   ]
  },
  {
   "cell_type": "markdown",
   "metadata": {},
   "source": [
    "## DATA EXTRACTION AND CLEANING AND FORMATTING\n",
    "### Data Extraction\n",
    "Putting the dow jones csv data into a dataframe"
   ]
  },
  {
   "cell_type": "code",
   "execution_count": 2,
   "metadata": {},
   "outputs": [
    {
     "name": "stdout",
     "output_type": "stream",
     "text": [
      "         Date     Open     High      Low   Close  Adj Close    Volume\n",
      "0  2000-09-18  1485.25  1489.75  1462.25  1467.5     1467.5  104794.0\n",
      "1  2000-09-19  1467.00  1482.75  1466.75  1478.5     1478.5  103371.0\n",
      "2  2000-09-20  1478.75  1480.50  1450.25  1469.5     1469.5  109667.0\n",
      "3  2000-09-21  1470.25  1474.00  1455.50  1469.5     1469.5   98528.0\n",
      "4  2000-09-22  1454.75  1471.00  1436.75  1468.5     1468.5   97416.0\n"
     ]
    }
   ],
   "source": [
    "if os.path.exists(DIRTY_FILE_NAME):\n",
    "    dowjones_stocks = pd.read_csv(DIRTY_FILE_NAME)\n",
    "    print(dowjones_stocks.head())\n",
    "else:\n",
    "    print(\"Error: Input file not found\")"
   ]
  },
  {
   "cell_type": "markdown",
   "metadata": {},
   "source": [
    "### Data Cleaning"
   ]
  },
  {
   "cell_type": "markdown",
   "metadata": {},
   "source": [
    "The Dow Jones stock price dataset contains a number of null records typically during holidays or weekends, which are days when the stock market is closed. To clean this dataset, we will simply remove all null records. Due to the missing dates, it should be noted that the stock price forecasting model will not predict stock prices for each subsequent days. Rather, we should assume that the forecasting model will predict stock prices for the next subsequent day in which the stock price would typically be observed and recorded."
   ]
  },
  {
   "cell_type": "code",
   "execution_count": 3,
   "metadata": {},
   "outputs": [
    {
     "data": {
      "text/html": [
       "<div>\n",
       "<style scoped>\n",
       "    .dataframe tbody tr th:only-of-type {\n",
       "        vertical-align: middle;\n",
       "    }\n",
       "\n",
       "    .dataframe tbody tr th {\n",
       "        vertical-align: top;\n",
       "    }\n",
       "\n",
       "    .dataframe thead th {\n",
       "        text-align: right;\n",
       "    }\n",
       "</style>\n",
       "<table border=\"1\" class=\"dataframe\">\n",
       "  <thead>\n",
       "    <tr style=\"text-align: right;\">\n",
       "      <th></th>\n",
       "      <th>Date</th>\n",
       "      <th>Open</th>\n",
       "      <th>High</th>\n",
       "      <th>Low</th>\n",
       "      <th>Close</th>\n",
       "      <th>Adj Close</th>\n",
       "      <th>Volume</th>\n",
       "    </tr>\n",
       "  </thead>\n",
       "  <tbody>\n",
       "    <tr>\n",
       "      <th>0</th>\n",
       "      <td>2000-09-18</td>\n",
       "      <td>1485.25</td>\n",
       "      <td>1489.75</td>\n",
       "      <td>1462.25</td>\n",
       "      <td>1467.50</td>\n",
       "      <td>1467.50</td>\n",
       "      <td>104794.0</td>\n",
       "    </tr>\n",
       "    <tr>\n",
       "      <th>1</th>\n",
       "      <td>2000-09-19</td>\n",
       "      <td>1467.00</td>\n",
       "      <td>1482.75</td>\n",
       "      <td>1466.75</td>\n",
       "      <td>1478.50</td>\n",
       "      <td>1478.50</td>\n",
       "      <td>103371.0</td>\n",
       "    </tr>\n",
       "    <tr>\n",
       "      <th>2</th>\n",
       "      <td>2000-09-20</td>\n",
       "      <td>1478.75</td>\n",
       "      <td>1480.50</td>\n",
       "      <td>1450.25</td>\n",
       "      <td>1469.50</td>\n",
       "      <td>1469.50</td>\n",
       "      <td>109667.0</td>\n",
       "    </tr>\n",
       "    <tr>\n",
       "      <th>3</th>\n",
       "      <td>2000-09-21</td>\n",
       "      <td>1470.25</td>\n",
       "      <td>1474.00</td>\n",
       "      <td>1455.50</td>\n",
       "      <td>1469.50</td>\n",
       "      <td>1469.50</td>\n",
       "      <td>98528.0</td>\n",
       "    </tr>\n",
       "    <tr>\n",
       "      <th>4</th>\n",
       "      <td>2000-09-22</td>\n",
       "      <td>1454.75</td>\n",
       "      <td>1471.00</td>\n",
       "      <td>1436.75</td>\n",
       "      <td>1468.50</td>\n",
       "      <td>1468.50</td>\n",
       "      <td>97416.0</td>\n",
       "    </tr>\n",
       "    <tr>\n",
       "      <th>...</th>\n",
       "      <td>...</td>\n",
       "      <td>...</td>\n",
       "      <td>...</td>\n",
       "      <td>...</td>\n",
       "      <td>...</td>\n",
       "      <td>...</td>\n",
       "      <td>...</td>\n",
       "    </tr>\n",
       "    <tr>\n",
       "      <th>6190</th>\n",
       "      <td>2020-11-17</td>\n",
       "      <td>3625.50</td>\n",
       "      <td>3630.00</td>\n",
       "      <td>3584.25</td>\n",
       "      <td>3606.75</td>\n",
       "      <td>3606.75</td>\n",
       "      <td>1268206.0</td>\n",
       "    </tr>\n",
       "    <tr>\n",
       "      <th>6191</th>\n",
       "      <td>2020-11-18</td>\n",
       "      <td>3604.50</td>\n",
       "      <td>3623.25</td>\n",
       "      <td>3556.50</td>\n",
       "      <td>3565.00</td>\n",
       "      <td>3565.00</td>\n",
       "      <td>1325309.0</td>\n",
       "    </tr>\n",
       "    <tr>\n",
       "      <th>6192</th>\n",
       "      <td>2020-11-19</td>\n",
       "      <td>3562.00</td>\n",
       "      <td>3582.75</td>\n",
       "      <td>3542.25</td>\n",
       "      <td>3580.00</td>\n",
       "      <td>3580.00</td>\n",
       "      <td>1291117.0</td>\n",
       "    </tr>\n",
       "    <tr>\n",
       "      <th>6193</th>\n",
       "      <td>2020-11-20</td>\n",
       "      <td>3560.00</td>\n",
       "      <td>3582.50</td>\n",
       "      <td>3542.75</td>\n",
       "      <td>3554.25</td>\n",
       "      <td>3554.25</td>\n",
       "      <td>1189621.0</td>\n",
       "    </tr>\n",
       "    <tr>\n",
       "      <th>6194</th>\n",
       "      <td>2020-11-22</td>\n",
       "      <td>NaN</td>\n",
       "      <td>NaN</td>\n",
       "      <td>NaN</td>\n",
       "      <td>NaN</td>\n",
       "      <td>NaN</td>\n",
       "      <td>NaN</td>\n",
       "    </tr>\n",
       "  </tbody>\n",
       "</table>\n",
       "<p>6195 rows × 7 columns</p>\n",
       "</div>"
      ],
      "text/plain": [
       "            Date     Open     High      Low    Close  Adj Close     Volume\n",
       "0     2000-09-18  1485.25  1489.75  1462.25  1467.50    1467.50   104794.0\n",
       "1     2000-09-19  1467.00  1482.75  1466.75  1478.50    1478.50   103371.0\n",
       "2     2000-09-20  1478.75  1480.50  1450.25  1469.50    1469.50   109667.0\n",
       "3     2000-09-21  1470.25  1474.00  1455.50  1469.50    1469.50    98528.0\n",
       "4     2000-09-22  1454.75  1471.00  1436.75  1468.50    1468.50    97416.0\n",
       "...          ...      ...      ...      ...      ...        ...        ...\n",
       "6190  2020-11-17  3625.50  3630.00  3584.25  3606.75    3606.75  1268206.0\n",
       "6191  2020-11-18  3604.50  3623.25  3556.50  3565.00    3565.00  1325309.0\n",
       "6192  2020-11-19  3562.00  3582.75  3542.25  3580.00    3580.00  1291117.0\n",
       "6193  2020-11-20  3560.00  3582.50  3542.75  3554.25    3554.25  1189621.0\n",
       "6194  2020-11-22      NaN      NaN      NaN      NaN        NaN        NaN\n",
       "\n",
       "[6195 rows x 7 columns]"
      ]
     },
     "execution_count": 3,
     "metadata": {},
     "output_type": "execute_result"
    }
   ],
   "source": [
    "dowjones_stocks_cleaned = dowjones_stocks.loc[dowjones_stocks[\"Open\"].isnull() == False]\n",
    "dowjones_stocks"
   ]
  },
  {
   "cell_type": "markdown",
   "metadata": {},
   "source": [
    "Check if there are any null values left in the dataset. There are none left."
   ]
  },
  {
   "cell_type": "code",
   "execution_count": 4,
   "metadata": {},
   "outputs": [
    {
     "data": {
      "text/plain": [
       "Date         0\n",
       "Open         0\n",
       "High         0\n",
       "Low          0\n",
       "Close        0\n",
       "Adj Close    0\n",
       "Volume       0\n",
       "dtype: int64"
      ]
     },
     "execution_count": 4,
     "metadata": {},
     "output_type": "execute_result"
    }
   ],
   "source": [
    "dowjones_stocks_cleaned.isnull().sum()"
   ]
  },
  {
   "cell_type": "code",
   "execution_count": 5,
   "metadata": {},
   "outputs": [],
   "source": [
    "#save cleaned data without the index column.\n",
    "dowjones_stocks_cleaned.to_csv(CLEAN_FILE_NAME, index=0)"
   ]
  },
  {
   "cell_type": "markdown",
   "metadata": {},
   "source": [
    "## BREAK POINT 1: Data Cleaned and saved till here. Can begin from here if saved file is available"
   ]
  },
  {
   "cell_type": "code",
   "execution_count": 6,
   "metadata": {},
   "outputs": [
    {
     "name": "stdout",
     "output_type": "stream",
     "text": [
      "               Open     High      Low   Close  Adj Close    Volume\n",
      "Date                                                              \n",
      "2000-09-18  1485.25  1489.75  1462.25  1467.5     1467.5  104794.0\n",
      "2000-09-19  1467.00  1482.75  1466.75  1478.5     1478.5  103371.0\n",
      "2000-09-20  1478.75  1480.50  1450.25  1469.5     1469.5  109667.0\n",
      "2000-09-21  1470.25  1474.00  1455.50  1469.5     1469.5   98528.0\n",
      "2000-09-22  1454.75  1471.00  1436.75  1468.5     1468.5   97416.0\n"
     ]
    }
   ],
   "source": [
    "if os.path.exists(CLEAN_FILE_NAME):\n",
    "    dowjones_stocks_cleaned = pd.read_csv(CLEAN_FILE_NAME,index_col=['Date'])\n",
    "    print(dowjones_stocks_cleaned.head())\n",
    "else:\n",
    "    print(\"Error: Clean File not found. Restart from the beginning\")"
   ]
  },
  {
   "cell_type": "markdown",
   "metadata": {},
   "source": [
    "# Model: CNN\n",
    "\n",
    "We have 10 years work of data. Will use 9 years of data to predict the last year.\n",
    "Will break the data down into weekly data and then use that to predict the daily high for each daya for a week."
   ]
  },
  {
   "cell_type": "code",
   "execution_count": 7,
   "metadata": {
    "scrolled": false
   },
   "outputs": [
    {
     "name": "stdout",
     "output_type": "stream",
     "text": [
      "Length= 5131\n",
      "Total Weeks= 1026\n",
      "-----TRAIN DATA-----\n",
      "Length= 4871\n",
      "-----TEST DATA-----\n",
      "Length= 260\n",
      "[   3237.      3261.75    3234.25    3259.      3259.   1416241.  ]\n"
     ]
    }
   ],
   "source": [
    "def split(dataset):\n",
    "    dataset = dataset.values\n",
    "    length = len(dowjones_stocks_cleaned)\n",
    "    print(\"Length=\",length)\n",
    "    total_weeks = int(length/5)\n",
    "    print(\"Total Weeks=\",total_weeks)\n",
    "    \n",
    "    #use last 1 year as test data set, everything else as train dataset\n",
    "    WEEKS_IN_ONE_YEAR = 52\n",
    "    ONE_YEAR_WORK_DAYS = 5*52\n",
    "    \n",
    "    train = dataset[0:-ONE_YEAR_WORK_DAYS]\n",
    "    test = dataset[-ONE_YEAR_WORK_DAYS:]\n",
    "    \n",
    "    #convert to array\n",
    "    train = np.array(train)\n",
    "    test = np.array(test)\n",
    "    \n",
    "    print(\"-----TRAIN DATA-----\")\n",
    "    print(\"Length=\",len(train))\n",
    "    print(\"-----TEST DATA-----\")\n",
    "    print(\"Length=\",len(test))\n",
    "    print(test[0])\n",
    "    return train,test\n",
    "    \n",
    "train_data,test_data = split(dowjones_stocks_cleaned)"
   ]
  },
  {
   "cell_type": "markdown",
   "metadata": {},
   "source": [
    "### What to predict?\n",
    "Use the available data: Open Price, High, Low, Close, Adj Close, Volume to predict the High of next 1 week"
   ]
  },
  {
   "cell_type": "code",
   "execution_count": 8,
   "metadata": {},
   "outputs": [],
   "source": [
    "COLUMN_TO_PREDICT = 1 #High for the day\n",
    "NUMBER_OF_DAYS_DATA_TO_USE = 5\n",
    "NUMBER_OF_COLUMNS = train_data.shape[1]\n",
    "#split the given data into inputs and outputs. We can use last 7 days data to predict the next day \n",
    "# or we can use monthly data to predict. It depends onm how we want to model the data\n",
    "# and will experiment with various models\n",
    "#if column_with_result is None, then trying to make data for validation\n",
    "def convert_data_into_io(input_data, steps, column_with_result):\n",
    "    print(column_with_result)\n",
    "    x,y = list(), list()\n",
    "    \n",
    "    for i in range(len(input_data)):\n",
    "        end = i + steps\n",
    "        if end+1 > len(input_data):\n",
    "            break\n",
    "        \n",
    "        _x = input_data[i:end,]\n",
    "        _y = input_data[end,column_with_result]\n",
    "        \n",
    "        y.append(_y)\n",
    "        x.append(_x)\n",
    "        \n",
    "    return np.array(x), np.array(y)"
   ]
  },
  {
   "cell_type": "code",
   "execution_count": 9,
   "metadata": {},
   "outputs": [
    {
     "name": "stdout",
     "output_type": "stream",
     "text": [
      "1\n",
      "Sample Input Data:\n",
      "[[  1485.25   1489.75   1462.25   1467.5    1467.5  104794.  ]\n",
      " [  1467.     1482.75   1466.75   1478.5    1478.5  103371.  ]\n",
      " [  1478.75   1480.5    1450.25   1469.5    1469.5  109667.  ]\n",
      " [  1470.25   1474.     1455.5    1469.5    1469.5   98528.  ]\n",
      " [  1454.75   1471.     1436.75   1468.5    1468.5   97416.  ]]\n",
      "Sample Output Data:\n",
      "1477.75\n"
     ]
    }
   ],
   "source": [
    "x,y = convert_data_into_io(train_data,NUMBER_OF_DAYS_DATA_TO_USE,COLUMN_TO_PREDICT)\n",
    "\n",
    "print(\"Sample Input Data:\")\n",
    "print(x[0])\n",
    "print(\"Sample Output Data:\")\n",
    "print(y[0])"
   ]
  },
  {
   "cell_type": "code",
   "execution_count": 10,
   "metadata": {},
   "outputs": [],
   "source": [
    "from keras.layers import Dense\n",
    "from keras import Input\n",
    "from keras.layers.convolutional import Conv1D\n",
    "from keras.layers.convolutional import MaxPooling1D\n",
    "from keras.models import Sequential\n",
    "from keras.layers import Flatten\n",
    "from keras.callbacks import Callback\n",
    "\n",
    "EPOCHS=10000\n",
    "\n",
    "class PrintDot(Callback):\n",
    "  def on_epoch_end(self, epoch, logs):\n",
    "    if epoch % 10 == 0: print('.',end='')\n",
    "    if epoch % 1000 == 0: print(': ',epoch)\n",
    "        \n",
    "# define model\n",
    "def model_and_fit(x,y, modelFile):\n",
    "    if os.path.exists(modelFile):\n",
    "        #delete file\n",
    "        os.remove(modelFile)\n",
    "    model = Sequential()\n",
    "    model.add(Conv1D(filters=64, kernel_size=2, activation='relu', input_shape=(NUMBER_OF_DAYS_DATA_TO_USE, NUMBER_OF_COLUMNS)))\n",
    "    model.add(MaxPooling1D(pool_size=2))\n",
    "    model.add(Flatten())\n",
    "    model.add(Dense(100, activation='relu'))\n",
    "    model.add(Dense(1)) #only 1 output\n",
    "    model.compile(optimizer='adam', loss='mae')\n",
    "    model.fit(x,y, epochs=EPOCHS, verbose=0, callbacks=[PrintDot()])\n",
    "    #save model\n",
    "    model.save(modelFile)\n",
    "    print(\"Model fitted and saved!\")\n",
    "    return model\n"
   ]
  },
  {
   "cell_type": "code",
   "execution_count": 14,
   "metadata": {},
   "outputs": [
    {
     "name": "stdout",
     "output_type": "stream",
     "text": [
      "Model Found: Loading...\n",
      "Model Loaded!\n"
     ]
    }
   ],
   "source": [
    "#SAVE MODEL AFTER FITTING. If saved model is available, then reload that\n",
    "from keras.models import load_model\n",
    "SAVED_MODEL_NAME = \"CNN_ModelSaved\"\n",
    "model = None\n",
    "\n",
    "if os.path.exists(SAVED_MODEL_NAME):\n",
    "    print(\"Model Found: Loading...\")\n",
    "    model = load_model(SAVED_MODEL_NAME)\n",
    "    print(\"Model Loaded!\")\n",
    "else:\n",
    "    print(\"Model not Found. Fitting model...\")\n",
    "    model = model_and_fit(x,y,SAVED_MODEL_NAME)\n",
    "    "
   ]
  },
  {
   "cell_type": "code",
   "execution_count": 15,
   "metadata": {
    "scrolled": true
   },
   "outputs": [
    {
     "name": "stdout",
     "output_type": "stream",
     "text": [
      "1\n",
      "Start predicting data...\n",
      "....................- 20\n",
      "....................- 40\n",
      "....................- 60\n",
      "....................- 80\n",
      "....................- 100\n",
      "....................- 120\n",
      "....................- 140\n",
      "....................- 160\n",
      "....................- 180\n",
      "....................- 200\n",
      "....................- 220\n",
      "....................- 240\n",
      "...............- 256\n",
      "End of data prediction!\n"
     ]
    }
   ],
   "source": [
    "#function for preditions and error calculating\n",
    "def predict(model, input_data):\n",
    "    input_data = input_data.reshape(1,NUMBER_OF_DAYS_DATA_TO_USE,NUMBER_OF_COLUMNS)\n",
    "    value = model.predict(input_data, verbose=0)\n",
    "    return value[0][0]\n",
    "\n",
    "\n",
    "def check_all_test_data(data, model):\n",
    "    predicted_data = []\n",
    "    i = 1\n",
    "    for d in data:\n",
    "        print('.',end='')\n",
    "        if i%20 == 0: print('-',i)\n",
    "        d = d.reshape((1, NUMBER_OF_DAYS_DATA_TO_USE, NUMBER_OF_COLUMNS))\n",
    "        data = predict(model,d)\n",
    "        predicted_data.append(data)\n",
    "        i = i+1\n",
    "    print('-',i)\n",
    "    return predicted_data\n",
    "\n",
    "test_x,actual_y = convert_data_into_io(test_data,NUMBER_OF_DAYS_DATA_TO_USE,COLUMN_TO_PREDICT)\n",
    "print(\"Start predicting data...\")\n",
    "predicted_y = check_all_test_data(test_x, model)\n",
    "print(\"End of data prediction!\")"
   ]
  },
  {
   "cell_type": "code",
   "execution_count": 16,
   "metadata": {},
   "outputs": [
    {
     "data": {
      "text/plain": [
       "<matplotlib.legend.Legend at 0x25854ee5fa0>"
      ]
     },
     "execution_count": 16,
     "metadata": {},
     "output_type": "execute_result"
    },
    {
     "data": {
      "image/png": "[encoded data removed]",
      "text/plain": [
       "<Figure size 432x288 with 1 Axes>"
      ]
     },
     "metadata": {
      "needs_background": "light"
     },
     "output_type": "display_data"
    }
   ],
   "source": [
    "from matplotlib import pyplot as plt\n",
    "from sklearn.metrics import mean_squared_error\n",
    "import math \n",
    "\n",
    "#plot actual and predicted\n",
    "x_axis = np.arange(1,len(actual_y)+1)\n",
    "plt.plot(x_axis, predicted_y, label='predicted data')\n",
    "plt.plot(x_axis, actual_y, label='actual data')\n",
    "plt.legend()\n"
   ]
  },
  {
   "cell_type": "code",
   "execution_count": 21,
   "metadata": {},
   "outputs": [
    {
     "name": "stdout",
     "output_type": "stream",
     "text": [
      "RMSE =  50.05688447626161\n"
     ]
    },
    {
     "data": {
      "text/plain": [
       "<matplotlib.legend.Legend at 0x25855098100>"
      ]
     },
     "execution_count": 21,
     "metadata": {},
     "output_type": "execute_result"
    },
    {
     "data": {
      "image/png": "[encoded data removed]",
      "text/plain": [
       "<Figure size 432x288 with 1 Axes>"
      ]
     },
     "metadata": {
      "needs_background": "light"
     },
     "output_type": "display_data"
    }
   ],
   "source": [
    "#print RMSE\n",
    "mse = mean_squared_error(actual_y, predicted_y)\n",
    "rmse = math.sqrt(mse)\n",
    "print(\"RMSE = \",rmse)\n",
    "\n",
    "def percent_diff(actual, predicted):\n",
    "    return ((actual-predicted)/actual) * 100\n",
    "\n",
    "#get percent difference between actual and predicted\n",
    "difference = []\n",
    "for i in range(0,len(actual_y)):\n",
    "    difference.append(percent_diff(actual_y[i],predicted_y[i]))\n",
    "\n",
    "x_axis = np.arange(1,len(actual_y)+1)\n",
    "plt.plot(x_axis, difference, label='percent difference')\n",
    "plt.legend()\n"
   ]
  },
  {
   "cell_type": "code",
   "execution_count": null,
   "metadata": {},
   "outputs": [],
   "source": []
  }
 ],
 "metadata": {
  "kernelspec": {
   "display_name": "Python 3",
   "language": "python",
   "name": "python3"
  },
  "language_info": {
   "codemirror_mode": {
    "name": "ipython",
    "version": 3
   },
   "file_extension": ".py",
   "mimetype": "text/x-python",
   "name": "python",
   "nbconvert_exporter": "python",
   "pygments_lexer": "ipython3",
   "version": "3.6.10"
  }
 },
 "nbformat": 4,
 "nbformat_minor": 4
}
