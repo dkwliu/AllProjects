{
 "cells": [
  {
   "cell_type": "markdown",
   "metadata": {},
   "source": [
    "USEFUL LINKS FOR DATA CLEANING:\n",
    "\n",
    "https://www.analyticsvidhya.com/blog/2018/10/predicting-stock-price-machine-learningnd-deep-learning-techniques-python/\n",
    "\n",
    "https://www.analyticsvidhya.com/blog/2016/02/time-series-forecasting-codes-python/?utm_source=blog&utm_medium=stockmarketpredictionarticle\n",
    "\n",
    "https://machinelearningmastery.com/how-to-develop-lstm-models-for-time-series-forecasting/"
   ]
  },
  {
   "cell_type": "code",
   "execution_count": 3,
   "metadata": {},
   "outputs": [],
   "source": [
    "import pandas as pd\n",
    "import calendar as cd\n",
    "import numpy as np"
   ]
  },
  {
   "cell_type": "markdown",
   "metadata": {},
   "source": [
    "## DATA EXTRACTION AND CLEANING AND FORMATTING\n",
    "### Data Extraction\n",
    "Putting the dow jones csv data into a dataframe"
   ]
  },
  {
   "cell_type": "code",
   "execution_count": 4,
   "metadata": {},
   "outputs": [
    {
     "data": {
      "text/html": [
       "<div>\n",
       "<style scoped>\n",
       "    .dataframe tbody tr th:only-of-type {\n",
       "        vertical-align: middle;\n",
       "    }\n",
       "\n",
       "    .dataframe tbody tr th {\n",
       "        vertical-align: top;\n",
       "    }\n",
       "\n",
       "    .dataframe thead th {\n",
       "        text-align: right;\n",
       "    }\n",
       "</style>\n",
       "<table border=\"1\" class=\"dataframe\">\n",
       "  <thead>\n",
       "    <tr style=\"text-align: right;\">\n",
       "      <th></th>\n",
       "      <th>Date</th>\n",
       "      <th>Open</th>\n",
       "      <th>High</th>\n",
       "      <th>Low</th>\n",
       "      <th>Close</th>\n",
       "      <th>Adj Close</th>\n",
       "      <th>Volume</th>\n",
       "    </tr>\n",
       "  </thead>\n",
       "  <tbody>\n",
       "    <tr>\n",
       "      <th>0</th>\n",
       "      <td>2000-09-18</td>\n",
       "      <td>1485.25</td>\n",
       "      <td>1489.75</td>\n",
       "      <td>1462.25</td>\n",
       "      <td>1467.5</td>\n",
       "      <td>1467.5</td>\n",
       "      <td>104794.0</td>\n",
       "    </tr>\n",
       "    <tr>\n",
       "      <th>1</th>\n",
       "      <td>2000-09-19</td>\n",
       "      <td>1467.00</td>\n",
       "      <td>1482.75</td>\n",
       "      <td>1466.75</td>\n",
       "      <td>1478.5</td>\n",
       "      <td>1478.5</td>\n",
       "      <td>103371.0</td>\n",
       "    </tr>\n",
       "    <tr>\n",
       "      <th>2</th>\n",
       "      <td>2000-09-20</td>\n",
       "      <td>1478.75</td>\n",
       "      <td>1480.50</td>\n",
       "      <td>1450.25</td>\n",
       "      <td>1469.5</td>\n",
       "      <td>1469.5</td>\n",
       "      <td>109667.0</td>\n",
       "    </tr>\n",
       "    <tr>\n",
       "      <th>3</th>\n",
       "      <td>2000-09-21</td>\n",
       "      <td>1470.25</td>\n",
       "      <td>1474.00</td>\n",
       "      <td>1455.50</td>\n",
       "      <td>1469.5</td>\n",
       "      <td>1469.5</td>\n",
       "      <td>98528.0</td>\n",
       "    </tr>\n",
       "    <tr>\n",
       "      <th>4</th>\n",
       "      <td>2000-09-22</td>\n",
       "      <td>1454.75</td>\n",
       "      <td>1471.00</td>\n",
       "      <td>1436.75</td>\n",
       "      <td>1468.5</td>\n",
       "      <td>1468.5</td>\n",
       "      <td>97416.0</td>\n",
       "    </tr>\n",
       "  </tbody>\n",
       "</table>\n",
       "</div>"
      ],
      "text/plain": [
       "         Date     Open     High      Low   Close  Adj Close    Volume\n",
       "0  2000-09-18  1485.25  1489.75  1462.25  1467.5     1467.5  104794.0\n",
       "1  2000-09-19  1467.00  1482.75  1466.75  1478.5     1478.5  103371.0\n",
       "2  2000-09-20  1478.75  1480.50  1450.25  1469.5     1469.5  109667.0\n",
       "3  2000-09-21  1470.25  1474.00  1455.50  1469.5     1469.5   98528.0\n",
       "4  2000-09-22  1454.75  1471.00  1436.75  1468.5     1468.5   97416.0"
      ]
     },
     "execution_count": 4,
     "metadata": {},
     "output_type": "execute_result"
    }
   ],
   "source": [
    "dowjones_stocks = pd.read_csv(\"ES=F.csv\")\n",
    "dowjones_stocks_copy = dowjones_stocks.copy()\n",
    "dowjones_stocks_copy.head()"
   ]
  },
  {
   "cell_type": "markdown",
   "metadata": {},
   "source": [
    "### Data Cleaning"
   ]
  },
  {
   "cell_type": "markdown",
   "metadata": {},
   "source": [
    "The Dow Jones stock price dataset contains a number of null records typically during holidays or weekends, which are days when the stock market is closed. To clean this dataset, we will simply remove all null records. Due to the missing dates, it should be noted that the stock price forecasting model will not predict stock prices for each subsequent days. Rather, we should assume that the forecasting model will predict stock prices for the next subsequent day in which the stock price would typically be observed and recorded."
   ]
  },
  {
   "cell_type": "code",
   "execution_count": 5,
   "metadata": {},
   "outputs": [
    {
     "data": {
      "text/html": [
       "<div>\n",
       "<style scoped>\n",
       "    .dataframe tbody tr th:only-of-type {\n",
       "        vertical-align: middle;\n",
       "    }\n",
       "\n",
       "    .dataframe tbody tr th {\n",
       "        vertical-align: top;\n",
       "    }\n",
       "\n",
       "    .dataframe thead th {\n",
       "        text-align: right;\n",
       "    }\n",
       "</style>\n",
       "<table border=\"1\" class=\"dataframe\">\n",
       "  <thead>\n",
       "    <tr style=\"text-align: right;\">\n",
       "      <th></th>\n",
       "      <th>Date</th>\n",
       "      <th>Open</th>\n",
       "      <th>High</th>\n",
       "      <th>Low</th>\n",
       "      <th>Close</th>\n",
       "      <th>Adj Close</th>\n",
       "      <th>Volume</th>\n",
       "    </tr>\n",
       "  </thead>\n",
       "  <tbody>\n",
       "    <tr>\n",
       "      <th>0</th>\n",
       "      <td>2000-09-18</td>\n",
       "      <td>1485.25</td>\n",
       "      <td>1489.75</td>\n",
       "      <td>1462.25</td>\n",
       "      <td>1467.50</td>\n",
       "      <td>1467.50</td>\n",
       "      <td>104794.0</td>\n",
       "    </tr>\n",
       "    <tr>\n",
       "      <th>1</th>\n",
       "      <td>2000-09-19</td>\n",
       "      <td>1467.00</td>\n",
       "      <td>1482.75</td>\n",
       "      <td>1466.75</td>\n",
       "      <td>1478.50</td>\n",
       "      <td>1478.50</td>\n",
       "      <td>103371.0</td>\n",
       "    </tr>\n",
       "    <tr>\n",
       "      <th>2</th>\n",
       "      <td>2000-09-20</td>\n",
       "      <td>1478.75</td>\n",
       "      <td>1480.50</td>\n",
       "      <td>1450.25</td>\n",
       "      <td>1469.50</td>\n",
       "      <td>1469.50</td>\n",
       "      <td>109667.0</td>\n",
       "    </tr>\n",
       "    <tr>\n",
       "      <th>3</th>\n",
       "      <td>2000-09-21</td>\n",
       "      <td>1470.25</td>\n",
       "      <td>1474.00</td>\n",
       "      <td>1455.50</td>\n",
       "      <td>1469.50</td>\n",
       "      <td>1469.50</td>\n",
       "      <td>98528.0</td>\n",
       "    </tr>\n",
       "    <tr>\n",
       "      <th>4</th>\n",
       "      <td>2000-09-22</td>\n",
       "      <td>1454.75</td>\n",
       "      <td>1471.00</td>\n",
       "      <td>1436.75</td>\n",
       "      <td>1468.50</td>\n",
       "      <td>1468.50</td>\n",
       "      <td>97416.0</td>\n",
       "    </tr>\n",
       "    <tr>\n",
       "      <th>...</th>\n",
       "      <td>...</td>\n",
       "      <td>...</td>\n",
       "      <td>...</td>\n",
       "      <td>...</td>\n",
       "      <td>...</td>\n",
       "      <td>...</td>\n",
       "      <td>...</td>\n",
       "    </tr>\n",
       "    <tr>\n",
       "      <th>6189</th>\n",
       "      <td>2020-11-16</td>\n",
       "      <td>3587.00</td>\n",
       "      <td>3637.00</td>\n",
       "      <td>3586.50</td>\n",
       "      <td>3623.00</td>\n",
       "      <td>3623.00</td>\n",
       "      <td>1303941.0</td>\n",
       "    </tr>\n",
       "    <tr>\n",
       "      <th>6190</th>\n",
       "      <td>2020-11-17</td>\n",
       "      <td>3625.50</td>\n",
       "      <td>3630.00</td>\n",
       "      <td>3584.25</td>\n",
       "      <td>3606.75</td>\n",
       "      <td>3606.75</td>\n",
       "      <td>1268206.0</td>\n",
       "    </tr>\n",
       "    <tr>\n",
       "      <th>6191</th>\n",
       "      <td>2020-11-18</td>\n",
       "      <td>3604.50</td>\n",
       "      <td>3623.25</td>\n",
       "      <td>3556.50</td>\n",
       "      <td>3565.00</td>\n",
       "      <td>3565.00</td>\n",
       "      <td>1325309.0</td>\n",
       "    </tr>\n",
       "    <tr>\n",
       "      <th>6192</th>\n",
       "      <td>2020-11-19</td>\n",
       "      <td>3562.00</td>\n",
       "      <td>3582.75</td>\n",
       "      <td>3542.25</td>\n",
       "      <td>3580.00</td>\n",
       "      <td>3580.00</td>\n",
       "      <td>1291117.0</td>\n",
       "    </tr>\n",
       "    <tr>\n",
       "      <th>6193</th>\n",
       "      <td>2020-11-20</td>\n",
       "      <td>3560.00</td>\n",
       "      <td>3582.50</td>\n",
       "      <td>3542.75</td>\n",
       "      <td>3554.25</td>\n",
       "      <td>3554.25</td>\n",
       "      <td>1189621.0</td>\n",
       "    </tr>\n",
       "  </tbody>\n",
       "</table>\n",
       "<p>5131 rows × 7 columns</p>\n",
       "</div>"
      ],
      "text/plain": [
       "            Date     Open     High      Low    Close  Adj Close     Volume\n",
       "0     2000-09-18  1485.25  1489.75  1462.25  1467.50    1467.50   104794.0\n",
       "1     2000-09-19  1467.00  1482.75  1466.75  1478.50    1478.50   103371.0\n",
       "2     2000-09-20  1478.75  1480.50  1450.25  1469.50    1469.50   109667.0\n",
       "3     2000-09-21  1470.25  1474.00  1455.50  1469.50    1469.50    98528.0\n",
       "4     2000-09-22  1454.75  1471.00  1436.75  1468.50    1468.50    97416.0\n",
       "...          ...      ...      ...      ...      ...        ...        ...\n",
       "6189  2020-11-16  3587.00  3637.00  3586.50  3623.00    3623.00  1303941.0\n",
       "6190  2020-11-17  3625.50  3630.00  3584.25  3606.75    3606.75  1268206.0\n",
       "6191  2020-11-18  3604.50  3623.25  3556.50  3565.00    3565.00  1325309.0\n",
       "6192  2020-11-19  3562.00  3582.75  3542.25  3580.00    3580.00  1291117.0\n",
       "6193  2020-11-20  3560.00  3582.50  3542.75  3554.25    3554.25  1189621.0\n",
       "\n",
       "[5131 rows x 7 columns]"
      ]
     },
     "execution_count": 5,
     "metadata": {},
     "output_type": "execute_result"
    }
   ],
   "source": [
    "dowjones_stocks_cleaned = dowjones_stocks_copy.loc[dowjones_stocks_copy[\"Open\"].isnull() == False]\n",
    "dowjones_stocks_cleaned"
   ]
  },
  {
   "cell_type": "markdown",
   "metadata": {},
   "source": [
    "Check if there are any null values left in the dataset. There are none left."
   ]
  },
  {
   "cell_type": "code",
   "execution_count": 10,
   "metadata": {},
   "outputs": [
    {
     "data": {
      "text/plain": [
       "Date         0\n",
       "Open         0\n",
       "High         0\n",
       "Low          0\n",
       "Close        0\n",
       "Adj Close    0\n",
       "Volume       0\n",
       "dtype: int64"
      ]
     },
     "execution_count": 10,
     "metadata": {},
     "output_type": "execute_result"
    }
   ],
   "source": [
    "dowjones_stocks_cleaned.isnull().sum()"
   ]
  },
  {
   "cell_type": "code",
   "execution_count": 6,
   "metadata": {},
   "outputs": [],
   "source": [
    "dowjones_stocks_cleaned.to_csv(\"(Clean)dowjones_stocks.csv\")"
   ]
  },
  {
   "cell_type": "markdown",
   "metadata": {},
   "source": [
    "### Data Formatting"
   ]
  },
  {
   "cell_type": "code",
   "execution_count": null,
   "metadata": {},
   "outputs": [],
   "source": []
  },
  {
   "cell_type": "markdown",
   "metadata": {},
   "source": [
    "## Model"
   ]
  },
  {
   "cell_type": "code",
   "execution_count": 12,
   "metadata": {},
   "outputs": [
    {
     "data": {
      "text/plain": [
       "5131"
      ]
     },
     "execution_count": 12,
     "metadata": {},
     "output_type": "execute_result"
    }
   ],
   "source": [
    "df_length = len(dowjones_stocks_cleaned)\n",
    "df_length"
   ]
  },
  {
   "cell_type": "code",
   "execution_count": 13,
   "metadata": {},
   "outputs": [
    {
     "name": "stdout",
     "output_type": "stream",
     "text": [
      "Training dataset size:  3591\n",
      "Validation dataset size:  1540\n"
     ]
    }
   ],
   "source": [
    "train = int(df_length * 0.7)\n",
    "val = df_length - train\n",
    "\n",
    "print(\"Training dataset size: \", train)\n",
    "print(\"Validation dataset size: \", val)"
   ]
  },
  {
   "cell_type": "code",
   "execution_count": null,
   "metadata": {},
   "outputs": [],
   "source": [
    "LSTM_model = Sequential()\n",
    "LSTM_model.add(LSTM(units=50, return_sequences=True, input_shape=(x_train.shape[1],1)))\n",
    "LSTM_model.add(LSTM(units=50))\n",
    "LSTM_model.add(Dense(1))"
   ]
  }
 ],
 "metadata": {
  "kernelspec": {
   "display_name": "Python 3",
   "language": "python",
   "name": "python3"
  },
  "language_info": {
   "codemirror_mode": {
    "name": "ipython",
    "version": 3
   },
   "file_extension": ".py",
   "mimetype": "text/x-python",
   "name": "python",
   "nbconvert_exporter": "python",
   "pygments_lexer": "ipython3",
   "version": "3.6.10"
  }
 },
 "nbformat": 4,
 "nbformat_minor": 4
}
