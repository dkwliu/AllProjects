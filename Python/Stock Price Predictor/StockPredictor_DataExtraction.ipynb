{
 "cells": [
  {
   "cell_type": "markdown",
   "metadata": {},
   "source": [
    "USEFUL LINKS FOR DATA CLEANING:\n",
    "\n",
    "https://www.analyticsvidhya.com/blog/2018/10/predicting-stock-price-machine-learningnd-deep-learning-techniques-python/\n",
    "\n",
    "https://www.analyticsvidhya.com/blog/2016/02/time-series-forecasting-codes-python/?utm_source=blog&utm_medium=stockmarketpredictionarticle\n",
    "\n",
    "https://machinelearningmastery.com/how-to-develop-lstm-models-for-time-series-forecasting/\n",
    "\n",
    "https://www.relataly.com/stock-market-prediction-with-multivariate-time-series-in-python/1815/"
   ]
  },
  {
   "cell_type": "code",
   "execution_count": 92,
   "metadata": {},
   "outputs": [],
   "source": [
    "import pandas as pd\n",
    "import calendar as cd\n",
    "import numpy as np\n",
    "import matplotlib.pyplot as plt\n",
    "from tensorflow import keras\n",
    "import os\n",
    "\n",
    "DIRTY_FILE_NAME = 'ES=F.csv'\n",
    "CLEAN_FILE_NAME = '(Clean)dowjones_stocks.csv'"
   ]
  },
  {
   "cell_type": "markdown",
   "metadata": {},
   "source": [
    "## DATA EXTRACTION AND CLEANING AND FORMATTING\n",
    "### Data Extraction\n",
    "Putting the dow jones csv data into a dataframe"
   ]
  },
  {
   "cell_type": "code",
   "execution_count": 93,
   "metadata": {},
   "outputs": [
    {
     "name": "stdout",
     "output_type": "stream",
     "text": [
      "         Date     Open     High      Low   Close  Adj Close    Volume\n",
      "0  2000-09-18  1485.25  1489.75  1462.25  1467.5     1467.5  104794.0\n",
      "1  2000-09-19  1467.00  1482.75  1466.75  1478.5     1478.5  103371.0\n",
      "2  2000-09-20  1478.75  1480.50  1450.25  1469.5     1469.5  109667.0\n",
      "3  2000-09-21  1470.25  1474.00  1455.50  1469.5     1469.5   98528.0\n",
      "4  2000-09-22  1454.75  1471.00  1436.75  1468.5     1468.5   97416.0\n"
     ]
    }
   ],
   "source": [
    "if os.path.exists(DIRTY_FILE_NAME):\n",
    "    dowjones_stocks = pd.read_csv(DIRTY_FILE_NAME)\n",
    "    print(dowjones_stocks.head())\n",
    "else:\n",
    "    print(\"Error: Input file not found\")"
   ]
  },
  {
   "cell_type": "markdown",
   "metadata": {},
   "source": [
    "### Data Cleaning"
   ]
  },
  {
   "cell_type": "markdown",
   "metadata": {},
   "source": [
    "The Dow Jones stock price dataset contains a number of null records typically during holidays or weekends, which are days when the stock market is closed. To clean this dataset, we will simply remove all null records. Due to the missing dates, it should be noted that the stock price forecasting model will not predict stock prices for each subsequent days. Rather, we should assume that the forecasting model will predict stock prices for the next subsequent day in which the stock price would typically be observed and recorded."
   ]
  },
  {
   "cell_type": "code",
   "execution_count": 94,
   "metadata": {},
   "outputs": [
    {
     "data": {
      "text/html": [
       "<div>\n",
       "<style scoped>\n",
       "    .dataframe tbody tr th:only-of-type {\n",
       "        vertical-align: middle;\n",
       "    }\n",
       "\n",
       "    .dataframe tbody tr th {\n",
       "        vertical-align: top;\n",
       "    }\n",
       "\n",
       "    .dataframe thead th {\n",
       "        text-align: right;\n",
       "    }\n",
       "</style>\n",
       "<table border=\"1\" class=\"dataframe\">\n",
       "  <thead>\n",
       "    <tr style=\"text-align: right;\">\n",
       "      <th></th>\n",
       "      <th>Date</th>\n",
       "      <th>Open</th>\n",
       "      <th>High</th>\n",
       "      <th>Low</th>\n",
       "      <th>Close</th>\n",
       "      <th>Adj Close</th>\n",
       "      <th>Volume</th>\n",
       "    </tr>\n",
       "  </thead>\n",
       "  <tbody>\n",
       "    <tr>\n",
       "      <th>0</th>\n",
       "      <td>2000-09-18</td>\n",
       "      <td>1485.25</td>\n",
       "      <td>1489.75</td>\n",
       "      <td>1462.25</td>\n",
       "      <td>1467.50</td>\n",
       "      <td>1467.50</td>\n",
       "      <td>104794.0</td>\n",
       "    </tr>\n",
       "    <tr>\n",
       "      <th>1</th>\n",
       "      <td>2000-09-19</td>\n",
       "      <td>1467.00</td>\n",
       "      <td>1482.75</td>\n",
       "      <td>1466.75</td>\n",
       "      <td>1478.50</td>\n",
       "      <td>1478.50</td>\n",
       "      <td>103371.0</td>\n",
       "    </tr>\n",
       "    <tr>\n",
       "      <th>2</th>\n",
       "      <td>2000-09-20</td>\n",
       "      <td>1478.75</td>\n",
       "      <td>1480.50</td>\n",
       "      <td>1450.25</td>\n",
       "      <td>1469.50</td>\n",
       "      <td>1469.50</td>\n",
       "      <td>109667.0</td>\n",
       "    </tr>\n",
       "    <tr>\n",
       "      <th>3</th>\n",
       "      <td>2000-09-21</td>\n",
       "      <td>1470.25</td>\n",
       "      <td>1474.00</td>\n",
       "      <td>1455.50</td>\n",
       "      <td>1469.50</td>\n",
       "      <td>1469.50</td>\n",
       "      <td>98528.0</td>\n",
       "    </tr>\n",
       "    <tr>\n",
       "      <th>4</th>\n",
       "      <td>2000-09-22</td>\n",
       "      <td>1454.75</td>\n",
       "      <td>1471.00</td>\n",
       "      <td>1436.75</td>\n",
       "      <td>1468.50</td>\n",
       "      <td>1468.50</td>\n",
       "      <td>97416.0</td>\n",
       "    </tr>\n",
       "    <tr>\n",
       "      <th>...</th>\n",
       "      <td>...</td>\n",
       "      <td>...</td>\n",
       "      <td>...</td>\n",
       "      <td>...</td>\n",
       "      <td>...</td>\n",
       "      <td>...</td>\n",
       "      <td>...</td>\n",
       "    </tr>\n",
       "    <tr>\n",
       "      <th>6189</th>\n",
       "      <td>2020-11-16</td>\n",
       "      <td>3587.00</td>\n",
       "      <td>3637.00</td>\n",
       "      <td>3586.50</td>\n",
       "      <td>3623.00</td>\n",
       "      <td>3623.00</td>\n",
       "      <td>1303941.0</td>\n",
       "    </tr>\n",
       "    <tr>\n",
       "      <th>6190</th>\n",
       "      <td>2020-11-17</td>\n",
       "      <td>3625.50</td>\n",
       "      <td>3630.00</td>\n",
       "      <td>3584.25</td>\n",
       "      <td>3606.75</td>\n",
       "      <td>3606.75</td>\n",
       "      <td>1268206.0</td>\n",
       "    </tr>\n",
       "    <tr>\n",
       "      <th>6191</th>\n",
       "      <td>2020-11-18</td>\n",
       "      <td>3604.50</td>\n",
       "      <td>3623.25</td>\n",
       "      <td>3556.50</td>\n",
       "      <td>3565.00</td>\n",
       "      <td>3565.00</td>\n",
       "      <td>1325309.0</td>\n",
       "    </tr>\n",
       "    <tr>\n",
       "      <th>6192</th>\n",
       "      <td>2020-11-19</td>\n",
       "      <td>3562.00</td>\n",
       "      <td>3582.75</td>\n",
       "      <td>3542.25</td>\n",
       "      <td>3580.00</td>\n",
       "      <td>3580.00</td>\n",
       "      <td>1291117.0</td>\n",
       "    </tr>\n",
       "    <tr>\n",
       "      <th>6193</th>\n",
       "      <td>2020-11-20</td>\n",
       "      <td>3560.00</td>\n",
       "      <td>3582.50</td>\n",
       "      <td>3542.75</td>\n",
       "      <td>3554.25</td>\n",
       "      <td>3554.25</td>\n",
       "      <td>1189621.0</td>\n",
       "    </tr>\n",
       "  </tbody>\n",
       "</table>\n",
       "<p>5131 rows × 7 columns</p>\n",
       "</div>"
      ],
      "text/plain": [
       "            Date     Open     High      Low    Close  Adj Close     Volume\n",
       "0     2000-09-18  1485.25  1489.75  1462.25  1467.50    1467.50   104794.0\n",
       "1     2000-09-19  1467.00  1482.75  1466.75  1478.50    1478.50   103371.0\n",
       "2     2000-09-20  1478.75  1480.50  1450.25  1469.50    1469.50   109667.0\n",
       "3     2000-09-21  1470.25  1474.00  1455.50  1469.50    1469.50    98528.0\n",
       "4     2000-09-22  1454.75  1471.00  1436.75  1468.50    1468.50    97416.0\n",
       "...          ...      ...      ...      ...      ...        ...        ...\n",
       "6189  2020-11-16  3587.00  3637.00  3586.50  3623.00    3623.00  1303941.0\n",
       "6190  2020-11-17  3625.50  3630.00  3584.25  3606.75    3606.75  1268206.0\n",
       "6191  2020-11-18  3604.50  3623.25  3556.50  3565.00    3565.00  1325309.0\n",
       "6192  2020-11-19  3562.00  3582.75  3542.25  3580.00    3580.00  1291117.0\n",
       "6193  2020-11-20  3560.00  3582.50  3542.75  3554.25    3554.25  1189621.0\n",
       "\n",
       "[5131 rows x 7 columns]"
      ]
     },
     "execution_count": 94,
     "metadata": {},
     "output_type": "execute_result"
    }
   ],
   "source": [
    "dowjones_stocks_cleaned = dowjones_stocks.loc[dowjones_stocks[\"Open\"].isnull() == False]\n",
    "dowjones_stocks_cleaned"
   ]
  },
  {
   "cell_type": "markdown",
   "metadata": {},
   "source": [
    "Check if there are any null values left in the dataset. There are none left."
   ]
  },
  {
   "cell_type": "code",
   "execution_count": 95,
   "metadata": {},
   "outputs": [
    {
     "data": {
      "text/plain": [
       "Date         0\n",
       "Open         0\n",
       "High         0\n",
       "Low          0\n",
       "Close        0\n",
       "Adj Close    0\n",
       "Volume       0\n",
       "dtype: int64"
      ]
     },
     "execution_count": 95,
     "metadata": {},
     "output_type": "execute_result"
    }
   ],
   "source": [
    "dowjones_stocks_cleaned.isnull().sum()"
   ]
  },
  {
   "cell_type": "code",
   "execution_count": 96,
   "metadata": {},
   "outputs": [],
   "source": [
    "#save cleaned data without the index column.\n",
    "dowjones_stocks_cleaned.to_csv(CLEAN_FILE_NAME, index=0)"
   ]
  },
  {
   "cell_type": "markdown",
   "metadata": {},
   "source": [
    "## BREAK POINT 1: Data Cleaned and saved till here. Can begin from here if saved file is available"
   ]
  },
  {
   "cell_type": "code",
   "execution_count": 97,
   "metadata": {},
   "outputs": [
    {
     "name": "stdout",
     "output_type": "stream",
     "text": [
      "               Open     High      Low   Close  Adj Close    Volume\n",
      "Date                                                              \n",
      "2000-09-18  1485.25  1489.75  1462.25  1467.5     1467.5  104794.0\n",
      "2000-09-19  1467.00  1482.75  1466.75  1478.5     1478.5  103371.0\n",
      "2000-09-20  1478.75  1480.50  1450.25  1469.5     1469.5  109667.0\n",
      "2000-09-21  1470.25  1474.00  1455.50  1469.5     1469.5   98528.0\n",
      "2000-09-22  1454.75  1471.00  1436.75  1468.5     1468.5   97416.0\n"
     ]
    }
   ],
   "source": [
    "if os.path.exists(CLEAN_FILE_NAME):\n",
    "    dowjones_stocks_cleaned = pd.read_csv(CLEAN_FILE_NAME,index_col=['Date'])\n",
    "    print(dowjones_stocks_cleaned.head())\n",
    "else:\n",
    "    print(\"Error: Clean File not found. Restart from the beginning\")"
   ]
  },
  {
   "cell_type": "markdown",
   "metadata": {},
   "source": [
    "# Splitting the Data\n",
    "\n",
    "We have 10 years worth of data. Will use 9 years of data to predict the last year.\n",
    "Will break the data down into weekly data and then use that to predict the daily high for each daya for a week. We will also remove the \"Adjusted Close\" column as it is the same as the \"Close\" column."
   ]
  },
  {
   "cell_type": "code",
   "execution_count": 98,
   "metadata": {},
   "outputs": [
    {
     "data": {
      "text/html": [
       "<div>\n",
       "<style scoped>\n",
       "    .dataframe tbody tr th:only-of-type {\n",
       "        vertical-align: middle;\n",
       "    }\n",
       "\n",
       "    .dataframe tbody tr th {\n",
       "        vertical-align: top;\n",
       "    }\n",
       "\n",
       "    .dataframe thead th {\n",
       "        text-align: right;\n",
       "    }\n",
       "</style>\n",
       "<table border=\"1\" class=\"dataframe\">\n",
       "  <thead>\n",
       "    <tr style=\"text-align: right;\">\n",
       "      <th></th>\n",
       "      <th>Open</th>\n",
       "      <th>High</th>\n",
       "      <th>Low</th>\n",
       "      <th>Close</th>\n",
       "      <th>Volume</th>\n",
       "    </tr>\n",
       "    <tr>\n",
       "      <th>Date</th>\n",
       "      <th></th>\n",
       "      <th></th>\n",
       "      <th></th>\n",
       "      <th></th>\n",
       "      <th></th>\n",
       "    </tr>\n",
       "  </thead>\n",
       "  <tbody>\n",
       "    <tr>\n",
       "      <th>2000-09-18</th>\n",
       "      <td>1485.25</td>\n",
       "      <td>1489.75</td>\n",
       "      <td>1462.25</td>\n",
       "      <td>1467.50</td>\n",
       "      <td>104794.0</td>\n",
       "    </tr>\n",
       "    <tr>\n",
       "      <th>2000-09-19</th>\n",
       "      <td>1467.00</td>\n",
       "      <td>1482.75</td>\n",
       "      <td>1466.75</td>\n",
       "      <td>1478.50</td>\n",
       "      <td>103371.0</td>\n",
       "    </tr>\n",
       "    <tr>\n",
       "      <th>2000-09-20</th>\n",
       "      <td>1478.75</td>\n",
       "      <td>1480.50</td>\n",
       "      <td>1450.25</td>\n",
       "      <td>1469.50</td>\n",
       "      <td>109667.0</td>\n",
       "    </tr>\n",
       "    <tr>\n",
       "      <th>2000-09-21</th>\n",
       "      <td>1470.25</td>\n",
       "      <td>1474.00</td>\n",
       "      <td>1455.50</td>\n",
       "      <td>1469.50</td>\n",
       "      <td>98528.0</td>\n",
       "    </tr>\n",
       "    <tr>\n",
       "      <th>2000-09-22</th>\n",
       "      <td>1454.75</td>\n",
       "      <td>1471.00</td>\n",
       "      <td>1436.75</td>\n",
       "      <td>1468.50</td>\n",
       "      <td>97416.0</td>\n",
       "    </tr>\n",
       "    <tr>\n",
       "      <th>...</th>\n",
       "      <td>...</td>\n",
       "      <td>...</td>\n",
       "      <td>...</td>\n",
       "      <td>...</td>\n",
       "      <td>...</td>\n",
       "    </tr>\n",
       "    <tr>\n",
       "      <th>2020-11-16</th>\n",
       "      <td>3587.00</td>\n",
       "      <td>3637.00</td>\n",
       "      <td>3586.50</td>\n",
       "      <td>3623.00</td>\n",
       "      <td>1303941.0</td>\n",
       "    </tr>\n",
       "    <tr>\n",
       "      <th>2020-11-17</th>\n",
       "      <td>3625.50</td>\n",
       "      <td>3630.00</td>\n",
       "      <td>3584.25</td>\n",
       "      <td>3606.75</td>\n",
       "      <td>1268206.0</td>\n",
       "    </tr>\n",
       "    <tr>\n",
       "      <th>2020-11-18</th>\n",
       "      <td>3604.50</td>\n",
       "      <td>3623.25</td>\n",
       "      <td>3556.50</td>\n",
       "      <td>3565.00</td>\n",
       "      <td>1325309.0</td>\n",
       "    </tr>\n",
       "    <tr>\n",
       "      <th>2020-11-19</th>\n",
       "      <td>3562.00</td>\n",
       "      <td>3582.75</td>\n",
       "      <td>3542.25</td>\n",
       "      <td>3580.00</td>\n",
       "      <td>1291117.0</td>\n",
       "    </tr>\n",
       "    <tr>\n",
       "      <th>2020-11-20</th>\n",
       "      <td>3560.00</td>\n",
       "      <td>3582.50</td>\n",
       "      <td>3542.75</td>\n",
       "      <td>3554.25</td>\n",
       "      <td>1189621.0</td>\n",
       "    </tr>\n",
       "  </tbody>\n",
       "</table>\n",
       "<p>5131 rows × 5 columns</p>\n",
       "</div>"
      ],
      "text/plain": [
       "               Open     High      Low    Close     Volume\n",
       "Date                                                     \n",
       "2000-09-18  1485.25  1489.75  1462.25  1467.50   104794.0\n",
       "2000-09-19  1467.00  1482.75  1466.75  1478.50   103371.0\n",
       "2000-09-20  1478.75  1480.50  1450.25  1469.50   109667.0\n",
       "2000-09-21  1470.25  1474.00  1455.50  1469.50    98528.0\n",
       "2000-09-22  1454.75  1471.00  1436.75  1468.50    97416.0\n",
       "...             ...      ...      ...      ...        ...\n",
       "2020-11-16  3587.00  3637.00  3586.50  3623.00  1303941.0\n",
       "2020-11-17  3625.50  3630.00  3584.25  3606.75  1268206.0\n",
       "2020-11-18  3604.50  3623.25  3556.50  3565.00  1325309.0\n",
       "2020-11-19  3562.00  3582.75  3542.25  3580.00  1291117.0\n",
       "2020-11-20  3560.00  3582.50  3542.75  3554.25  1189621.0\n",
       "\n",
       "[5131 rows x 5 columns]"
      ]
     },
     "execution_count": 98,
     "metadata": {},
     "output_type": "execute_result"
    }
   ],
   "source": [
    "dowjones_stocks_cleaned_copy = dowjones_stocks_cleaned.copy()\n",
    "del dowjones_stocks_cleaned_copy[\"Adj Close\"]\n",
    "dowjones_stocks_cleaned_copy"
   ]
  },
  {
   "cell_type": "code",
   "execution_count": 102,
   "metadata": {
    "scrolled": true
   },
   "outputs": [
    {
     "name": "stdout",
     "output_type": "stream",
     "text": [
      "Length= 5131\n",
      "Total Weeks= 1026\n",
      "-----TRAIN DATA-----\n",
      "Length= 4871\n",
      "-----TEST DATA-----\n",
      "Length= 260\n",
      "[  1485.25   1489.75   1462.25   1467.5  104794.  ]\n",
      "[   3237.      3261.75    3234.25    3259.   1416241.  ]\n"
     ]
    }
   ],
   "source": [
    "def split(dataset):\n",
    "    dataset = dataset.values\n",
    "    length = len(dataset)\n",
    "    print(\"Length=\",length)\n",
    "    total_weeks = int(length/5)\n",
    "    print(\"Total Weeks=\",total_weeks)\n",
    "    \n",
    "    #use last 1 year as test data set, everything else as train dataset\n",
    "    WEEKS_IN_ONE_YEAR = 52\n",
    "    ONE_YEAR_WORK_DAYS = 5*52\n",
    "    \n",
    "    train = dataset[0:-ONE_YEAR_WORK_DAYS]\n",
    "    test = dataset[-ONE_YEAR_WORK_DAYS:]\n",
    "    \n",
    "    #convert to array\n",
    "    train = np.array(train)\n",
    "    test = np.array(test)\n",
    "    \n",
    "    print(\"-----TRAIN DATA-----\")\n",
    "    print(\"Length=\",len(train))\n",
    "    print(\"-----TEST DATA-----\")\n",
    "    print(\"Length=\",len(test))\n",
    "    print(train[0])\n",
    "    print(test[0])\n",
    "    return train,test\n",
    "    \n",
    "train_data,test_data = split(dowjones_stocks_cleaned_copy)"
   ]
  },
  {
   "cell_type": "markdown",
   "metadata": {},
   "source": [
    "### What to predict?\n",
    "Use the available data: Open Price, High, Low, Close, Adj Close, Volume to predict the High of next 1 week"
   ]
  },
  {
   "cell_type": "code",
   "execution_count": 88,
   "metadata": {},
   "outputs": [],
   "source": [
    "COLUMN_TO_PREDICT = 3 #Closing cost for the day\n",
    "NUMBER_OF_DAYS_DATA_TO_USE = 15\n",
    "NUMBER_OF_COLUMNS = train_data.shape[1]\n",
    "NUMBER_OF_DAYS_DATA_TO_PREDICT = 5\n",
    "\n",
    "#split the given data into inputs and outputs. We can use last 7 days data to predict the next day \n",
    "# or we can use monthly data to predict. It depends onm how we want to model the data\n",
    "# and will experiment with various models\n",
    "#if column_with_result is None, then trying to make data for validation\n",
    "def convert_data_into_io(input_data, steps, column_with_result, num_of_days_to_predict):\n",
    "    print(column_with_result)\n",
    "    x,y = list(), list()\n",
    "    \n",
    "    for i in range(len(input_data)):\n",
    "        end = i + steps\n",
    "        if end+1 > len(input_data) or end+num_of_days_to_predict > len(input_data):\n",
    "            break\n",
    "        \n",
    "        _x = input_data[i:end,]\n",
    "        _y = input_data[end:end+num_of_days_to_predict,column_with_result]\n",
    "        \n",
    "        y.append(_y)\n",
    "        x.append(_x)\n",
    "        \n",
    "    return np.array(x), np.array(y)"
   ]
  },
  {
   "cell_type": "code",
   "execution_count": 89,
   "metadata": {
    "scrolled": false
   },
   "outputs": [
    {
     "name": "stdout",
     "output_type": "stream",
     "text": [
      "3\n",
      "------------------------\n",
      "Total Train Data: 4852\n",
      "Sample Train Input Data:\n",
      "[[  1485.25   1489.75   1462.25   1467.5  104794.  ]\n",
      " [  1467.     1482.75   1466.75   1478.5  103371.  ]\n",
      " [  1478.75   1480.5    1450.25   1469.5  109667.  ]\n",
      " [  1470.25   1474.     1455.5    1469.5   98528.  ]\n",
      " [  1454.75   1471.     1436.75   1468.5   97416.  ]\n",
      " [  1469.5    1477.75   1455.5    1461.    85491.  ]\n",
      " [  1461.     1467.     1442.5    1443.    99803.  ]\n",
      " [  1444.     1456.     1438.25   1446.75 101996.  ]\n",
      " [  1447.75   1481.     1445.     1476.    84280.  ]\n",
      " [  1473.     1473.25   1454.     1454.    78277.  ]\n",
      " [  1453.75   1464.25   1447.5    1456.25  84100.  ]\n",
      " [  1457.25   1474.     1438.75   1441.5   89440.  ]\n",
      " [  1442.     1457.25   1432.5    1450.25 101607.  ]\n",
      " [  1449.5    1462.     1447.25   1456.    92232.  ]\n",
      " [  1456.     1460.5    1411.5    1426.25  95257.  ]]\n",
      "Sample Train Output Data:\n",
      "[1416.5  1391.   1378.5  1344.   1386.25]\n",
      "------------------------\n",
      "3\n",
      "------------------------\n",
      "Total Test Data: 241\n",
      "Sample Test Input Data:\n",
      "[[   3237.      3261.75    3234.25    3259.   1416241.  ]\n",
      " [   3261.      3263.5     3206.75    3235.5  1755057.  ]\n",
      " [   3220.25    3223.75    3216.25    3222.   1002909.  ]\n",
      " [   3220.25    3249.5     3208.75    3243.5  1502748.  ]\n",
      " [   3243.5     3254.5     3226.      3235.25 1293494.  ]\n",
      " [   3231.75    3267.75    3181.      3260.25 2279138.  ]\n",
      " [   3261.25    3276.75    3257.75    3276.   1297679.  ]\n",
      " [   3275.5     3287.      3260.75    3264.75 1533121.  ]\n",
      " [   3265.75    3271.5     3265.5     3270.25  304502.  ]\n",
      " [   3265.75    3291.      3265.5     3289.75 1008998.  ]\n",
      " [   3289.25    3296.75    3275.25    3288.   1694799.  ]\n",
      " [   3287.75    3299.      3277.75    3293.75 1468347.  ]\n",
      " [   3294.25    3318.      3294.      3316.5  1335246.  ]\n",
      " [   3316.75    3330.25    3316.      3325.   1312253.  ]\n",
      " [   3325.      3327.75    3323.25    3327.75  340135.  ]]\n",
      "Sample Test Output Data:\n",
      "[3319.5  3319.75 3326.   3293.5  3258.5 ]\n",
      "-------------------------\n"
     ]
    }
   ],
   "source": [
    "train_x,train_y = convert_data_into_io(train_data,NUMBER_OF_DAYS_DATA_TO_USE,COLUMN_TO_PREDICT,NUMBER_OF_DAYS_DATA_TO_PREDICT)\n",
    "print(\"------------------------\")\n",
    "print(\"Total Train Data:\", len(train_x))\n",
    "print(\"Sample Train Input Data:\")\n",
    "print(train_x[0])\n",
    "print(\"Sample Train Output Data:\")\n",
    "print(train_y[0])\n",
    "print(\"------------------------\")\n",
    "\n",
    "test_x,test_y = convert_data_into_io(test_data,NUMBER_OF_DAYS_DATA_TO_USE,COLUMN_TO_PREDICT,NUMBER_OF_DAYS_DATA_TO_PREDICT)\n",
    "print(\"------------------------\")\n",
    "print(\"Total Test Data:\", len(test_x))\n",
    "print(\"Sample Test Input Data:\")\n",
    "print(test_x[0])\n",
    "print(\"Sample Test Output Data:\")\n",
    "print(test_y[0])\n",
    "print(\"-------------------------\")"
   ]
  },
  {
   "cell_type": "code",
   "execution_count": 91,
   "metadata": {},
   "outputs": [
    {
     "data": {
      "text/plain": [
       "array([[[   3237.  ,    3261.75,    3234.25,    3259.  , 1416241.  ],\n",
       "        [   3261.  ,    3263.5 ,    3206.75,    3235.5 , 1755057.  ],\n",
       "        [   3220.25,    3223.75,    3216.25,    3222.  , 1002909.  ],\n",
       "        ...,\n",
       "        [   3294.25,    3318.  ,    3294.  ,    3316.5 , 1335246.  ],\n",
       "        [   3316.75,    3330.25,    3316.  ,    3325.  , 1312253.  ],\n",
       "        [   3325.  ,    3327.75,    3323.25,    3327.75,  340135.  ]],\n",
       "\n",
       "       [[   3261.  ,    3263.5 ,    3206.75,    3235.5 , 1755057.  ],\n",
       "        [   3220.25,    3223.75,    3216.25,    3222.  , 1002909.  ],\n",
       "        [   3220.25,    3249.5 ,    3208.75,    3243.5 , 1502748.  ],\n",
       "        ...,\n",
       "        [   3316.75,    3330.25,    3316.  ,    3325.  , 1312253.  ],\n",
       "        [   3325.  ,    3327.75,    3323.25,    3327.75,  340135.  ],\n",
       "        [   3325.  ,    3329.75,    3307.25,    3319.5 , 1573187.  ]],\n",
       "\n",
       "       [[   3220.25,    3223.75,    3216.25,    3222.  , 1002909.  ],\n",
       "        [   3220.25,    3249.5 ,    3208.75,    3243.5 , 1502748.  ],\n",
       "        [   3243.5 ,    3254.5 ,    3226.  ,    3235.25, 1293494.  ],\n",
       "        ...,\n",
       "        [   3325.  ,    3327.75,    3323.25,    3327.75,  340135.  ],\n",
       "        [   3325.  ,    3329.75,    3307.25,    3319.5 , 1573187.  ],\n",
       "        [   3321.25,    3337.5 ,    3315.25,    3319.75, 1505107.  ]],\n",
       "\n",
       "       ...,\n",
       "\n",
       "       [[   3430.25,    3453.  ,    3402.5 ,    3449.25, 1501259.  ],\n",
       "        [   3455.75,    3462.5 ,    3431.5 ,    3451.75, 1216313.  ],\n",
       "        [   3445.75,    3446.25,    3356.  ,    3393.5 , 1957780.  ],\n",
       "        ...,\n",
       "        [   3522.5 ,    3668.  ,    3515.75,    3544.  , 2605322.  ],\n",
       "        [   3549.5 ,    3562.75,    3506.5 ,    3541.  , 2160319.  ],\n",
       "        [   3546.25,    3576.75,    3531.  ,    3568.  , 1324983.  ]],\n",
       "\n",
       "       [[   3455.75,    3462.5 ,    3431.5 ,    3451.75, 1216313.  ],\n",
       "        [   3445.75,    3446.25,    3356.  ,    3393.5 , 1957780.  ],\n",
       "        [   3394.25,    3410.  ,    3368.25,    3383.  , 1566246.  ],\n",
       "        ...,\n",
       "        [   3549.5 ,    3562.75,    3506.5 ,    3541.  , 2160319.  ],\n",
       "        [   3546.25,    3576.75,    3531.  ,    3568.  , 1324983.  ],\n",
       "        [   3574.5 ,    3574.5 ,    3513.  ,    3532.5 , 1685890.  ]],\n",
       "\n",
       "       [[   3445.75,    3446.25,    3356.  ,    3393.5 , 1957780.  ],\n",
       "        [   3394.25,    3410.  ,    3368.25,    3383.  , 1566246.  ],\n",
       "        [   3369.  ,    3370.25,    3260.75,    3263.5 , 2627180.  ],\n",
       "        ...,\n",
       "        [   3546.25,    3576.75,    3531.  ,    3568.  , 1324983.  ],\n",
       "        [   3574.5 ,    3574.5 ,    3513.  ,    3532.5 , 1685890.  ],\n",
       "        [   3537.5 ,    3590.  ,    3518.  ,    3582.  , 1334530.  ]]])"
      ]
     },
     "execution_count": 91,
     "metadata": {},
     "output_type": "execute_result"
    }
   ],
   "source": [
    "test_x"
   ]
  },
  {
   "cell_type": "code",
   "execution_count": 90,
   "metadata": {},
   "outputs": [
    {
     "data": {
      "text/plain": [
       "array([[3319.5 , 3319.75, 3326.  , 3293.5 , 3258.5 ],\n",
       "       [3319.75, 3326.  , 3293.5 , 3258.5 , 3239.5 ],\n",
       "       [3326.  , 3293.5 , 3258.5 , 3239.5 , 3278.25],\n",
       "       ...,\n",
       "       [3532.5 , 3582.  , 3623.  , 3606.75, 3565.  ],\n",
       "       [3582.  , 3623.  , 3606.75, 3565.  , 3580.  ],\n",
       "       [3623.  , 3606.75, 3565.  , 3580.  , 3554.25]])"
      ]
     },
     "execution_count": 90,
     "metadata": {},
     "output_type": "execute_result"
    }
   ],
   "source": [
    "test_y"
   ]
  },
  {
   "cell_type": "code",
   "execution_count": null,
   "metadata": {},
   "outputs": [],
   "source": []
  }
 ],
 "metadata": {
  "kernelspec": {
   "display_name": "Python 3",
   "language": "python",
   "name": "python3"
  },
  "language_info": {
   "codemirror_mode": {
    "name": "ipython",
    "version": 3
   },
   "file_extension": ".py",
   "mimetype": "text/x-python",
   "name": "python",
   "nbconvert_exporter": "python",
   "pygments_lexer": "ipython3",
   "version": "3.6.10"
  }
 },
 "nbformat": 4,
 "nbformat_minor": 4
}
